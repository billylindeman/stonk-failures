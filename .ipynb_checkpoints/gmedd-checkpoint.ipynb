{
 "cells": [
  {
   "cell_type": "code",
   "execution_count": 7,
   "id": "cooked-pointer",
   "metadata": {},
   "outputs": [],
   "source": [
    "import numpy\n",
    "import pandas as pd\n",
    "import matplotlib.pyplot as plt\n",
    "\n",
    "%matplotlib inline\n",
    "plt.rcParams['figure.figsize']=(20,10) # set the figure size\n",
    "plt.style.use('fivethirtyeight') # using the fivethirtyeight matplotlib theme"
   ]
  },
  {
   "cell_type": "code",
   "execution_count": 8,
   "id": "powered-september",
   "metadata": {},
   "outputs": [],
   "source": [
    "import glob\n",
    "\n",
    "files = glob.glob('txt/cnsfails**')\n",
    "files.sort()"
   ]
  },
  {
   "cell_type": "code",
   "execution_count": null,
   "id": "passive-spank",
   "metadata": {},
   "outputs": [
    {
     "name": "stderr",
     "output_type": "stream",
     "text": [
      "<ipython-input-9-1baea8790b01>:3: ParserWarning: Falling back to the 'python' engine because the 'c' engine does not support skipfooter; you can avoid this warning by specifying engine='python'.\n",
      "  df = pd.read_csv(f, delimiter='|', error_bad_lines=False, header=0, skipfooter=2)\n"
     ]
    }
   ],
   "source": [
    "a = []\n",
    "for f in files:\n",
    "    df = pd.read_csv(f, delimiter='|', error_bad_lines=False, header=0, skipfooter=2)\n",
    "    a.append(df)\n",
    "\n",
    "df = pd.concat(a)"
   ]
  },
  {
   "cell_type": "code",
   "execution_count": null,
   "id": "professional-wedding",
   "metadata": {},
   "outputs": [],
   "source": [
    "df\n",
    "df['PRICE'] = pd.to_numeric(df['PRICE'], errors='coerce')"
   ]
  },
  {
   "cell_type": "code",
   "execution_count": null,
   "id": "frequent-atlas",
   "metadata": {},
   "outputs": [],
   "source": [
    "stonk = df[df['SYMBOL'] == 'GME']\n",
    "stonk"
   ]
  },
  {
   "cell_type": "code",
   "execution_count": null,
   "id": "durable-prior",
   "metadata": {},
   "outputs": [],
   "source": [
    "fig1, ax1 = plt.subplots()\n",
    "ax2 = ax1.twinx()\n",
    "\n",
    "stonk.plot(x='SETTLEMENT DATE', y='QUANTITY (FAILS)', ax=ax1)\n",
    "stonk.plot(x='SETTLEMENT DATE', y='PRICE', color='green', ax=ax2)"
   ]
  },
  {
   "cell_type": "code",
   "execution_count": null,
   "id": "surrounded-madagascar",
   "metadata": {},
   "outputs": [],
   "source": []
  }
 ],
 "metadata": {
  "kernelspec": {
   "display_name": "Python 3",
   "language": "python",
   "name": "python3"
  },
  "language_info": {
   "codemirror_mode": {
    "name": "ipython",
    "version": 3
   },
   "file_extension": ".py",
   "mimetype": "text/x-python",
   "name": "python",
   "nbconvert_exporter": "python",
   "pygments_lexer": "ipython3",
   "version": "3.8.5"
  }
 },
 "nbformat": 4,
 "nbformat_minor": 5
}
